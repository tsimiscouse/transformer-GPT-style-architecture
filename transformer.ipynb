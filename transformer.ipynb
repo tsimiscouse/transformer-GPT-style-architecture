{
 "cells": [
  {
   "cell_type": "markdown",
   "metadata": {},
   "source": [
    "# Transformer GPT-Style Architecture - NumPy Implementation\n",
    "\n",
    "**Author:** Muhammad Luthfi Attaqi (22/496427/TK/54387) \n",
    "\n",
    "## Overview\n",
    "\n",
    "Implementation of a decoder-only Transformer (GPT-style) from scratch using only NumPy.\n",
    "\n",
    "### Core Components\n",
    "1. Token Embedding\n",
    "2. Positional Encoding (Sinusoidal)\n",
    "3. Scaled Dot-Product Attention\n",
    "4. Multi-Head Attention\n",
    "5. Feed-Forward Network\n",
    "6. Layer Normalization + Residual Connections\n",
    "7. Causal Masking\n",
    "8. Output Layer\n",
    "\n",
    "### Bonus Features\n",
    "- RoPE (Rotary Position Embedding)\n",
    "- Weight Tying\n",
    "- Attention Visualization"
   ]
  },
  {
   "cell_type": "markdown",
   "metadata": {},
   "source": [
    "## 1. Install Dependencies\n",
    "\n",
    "Run this cell first to install required packages:"
   ]
  },
  {
   "cell_type": "code",
   "execution_count": 1,
   "metadata": {},
   "outputs": [
    {
     "name": "stdout",
     "output_type": "stream",
     "text": [
      "Requirement already satisfied: numpy in c:\\users\\asus\\projects\\nlp\\transformer-gpt-style-architecture\\venv\\lib\\site-packages (2.3.3)\n",
      "Requirement already satisfied: matplotlib in c:\\users\\asus\\projects\\nlp\\transformer-gpt-style-architecture\\venv\\lib\\site-packages (3.10.6)\n",
      "Requirement already satisfied: seaborn in c:\\users\\asus\\projects\\nlp\\transformer-gpt-style-architecture\\venv\\lib\\site-packages (0.13.2)\n",
      "Requirement already satisfied: contourpy>=1.0.1 in c:\\users\\asus\\projects\\nlp\\transformer-gpt-style-architecture\\venv\\lib\\site-packages (from matplotlib) (1.3.3)\n",
      "Requirement already satisfied: cycler>=0.10 in c:\\users\\asus\\projects\\nlp\\transformer-gpt-style-architecture\\venv\\lib\\site-packages (from matplotlib) (0.12.1)\n",
      "Requirement already satisfied: fonttools>=4.22.0 in c:\\users\\asus\\projects\\nlp\\transformer-gpt-style-architecture\\venv\\lib\\site-packages (from matplotlib) (4.60.1)\n",
      "Requirement already satisfied: kiwisolver>=1.3.1 in c:\\users\\asus\\projects\\nlp\\transformer-gpt-style-architecture\\venv\\lib\\site-packages (from matplotlib) (1.4.9)\n",
      "Requirement already satisfied: packaging>=20.0 in c:\\users\\asus\\projects\\nlp\\transformer-gpt-style-architecture\\venv\\lib\\site-packages (from matplotlib) (25.0)\n",
      "Requirement already satisfied: pillow>=8 in c:\\users\\asus\\projects\\nlp\\transformer-gpt-style-architecture\\venv\\lib\\site-packages (from matplotlib) (11.3.0)\n",
      "Requirement already satisfied: pyparsing>=2.3.1 in c:\\users\\asus\\projects\\nlp\\transformer-gpt-style-architecture\\venv\\lib\\site-packages (from matplotlib) (3.2.5)\n",
      "Requirement already satisfied: python-dateutil>=2.7 in c:\\users\\asus\\projects\\nlp\\transformer-gpt-style-architecture\\venv\\lib\\site-packages (from matplotlib) (2.9.0.post0)\n",
      "Requirement already satisfied: pandas>=1.2 in c:\\users\\asus\\projects\\nlp\\transformer-gpt-style-architecture\\venv\\lib\\site-packages (from seaborn) (2.3.3)\n",
      "Requirement already satisfied: pytz>=2020.1 in c:\\users\\asus\\projects\\nlp\\transformer-gpt-style-architecture\\venv\\lib\\site-packages (from pandas>=1.2->seaborn) (2025.2)\n",
      "Requirement already satisfied: tzdata>=2022.7 in c:\\users\\asus\\projects\\nlp\\transformer-gpt-style-architecture\\venv\\lib\\site-packages (from pandas>=1.2->seaborn) (2025.2)\n",
      "Requirement already satisfied: six>=1.5 in c:\\users\\asus\\projects\\nlp\\transformer-gpt-style-architecture\\venv\\lib\\site-packages (from python-dateutil>=2.7->matplotlib) (1.17.0)\n"
     ]
    },
    {
     "name": "stderr",
     "output_type": "stream",
     "text": [
      "\n",
      "[notice] A new release of pip is available: 24.2 -> 25.2\n",
      "[notice] To update, run: python.exe -m pip install --upgrade pip\n"
     ]
    }
   ],
   "source": [
    "!pip install numpy matplotlib seaborn"
   ]
  },
  {
   "cell_type": "markdown",
   "metadata": {},
   "source": [
    "## 2. Import Libraries"
   ]
  },
  {
   "cell_type": "code",
   "execution_count": 2,
   "metadata": {},
   "outputs": [],
   "source": [
    "import numpy as np\n",
    "import matplotlib.pyplot as plt\n",
    "import seaborn as sns"
   ]
  },
  {
   "cell_type": "markdown",
   "metadata": {},
   "source": [
    "## 3. Helper Functions\n",
    "\n",
    "### Softmax Function\n",
    "\n",
    "Formula: $$\\text{softmax}(x_i) = \\frac{e^{x_i}}{\\sum_{j} e^{x_j}}$$"
   ]
  },
  {
   "cell_type": "code",
   "execution_count": 3,
   "metadata": {},
   "outputs": [],
   "source": [
    "def softmax(x, axis=-1):\n",
    "    # Numerical stability by subtracting max\n",
    "    x_max = np.max(x, axis=axis, keepdims=True)\n",
    "    exp_x = np.exp(x - x_max)\n",
    "    return exp_x / np.sum(exp_x, axis=axis, keepdims=True)"
   ]
  },
  {
   "cell_type": "markdown",
   "metadata": {},
   "source": [
    "### Layer Normalization\n",
    "\n",
    "Formula: $$\\text{LayerNorm}(x) = \\gamma \\frac{x - \\mu}{\\sqrt{\\sigma^2 + \\epsilon}} + \\beta$$"
   ]
  },
  {
   "cell_type": "code",
   "execution_count": 4,
   "metadata": {},
   "outputs": [],
   "source": [
    "def layer_norm(x, gamma, beta, eps=1e-5):\n",
    "    mean = np.mean(x, axis=-1, keepdims=True)\n",
    "    var = np.var(x, axis=-1, keepdims=True)\n",
    "    x_norm = (x - mean) / np.sqrt(var + eps)\n",
    "    return gamma * x_norm + beta"
   ]
  },
  {
   "cell_type": "markdown",
   "metadata": {},
   "source": [
    "### GELU Activation\n",
    "\n",
    "Formula: $$\\text{GELU}(x) = 0.5x\\left(1 + \\tanh\\left[\\sqrt{\\frac{2}{\\pi}}(x + 0.044715x^3)\\right]\\right)$$"
   ]
  },
  {
   "cell_type": "code",
   "execution_count": 5,
   "metadata": {},
   "outputs": [],
   "source": [
    "def gelu(x):\n",
    "    # Approximation of GELU activation\n",
    "    return 0.5 * x * (1 + np.tanh(np.sqrt(2 / np.pi) * (x + 0.044715 * x**3)))"
   ]
  },
  {
   "cell_type": "markdown",
   "metadata": {},
   "source": [
    "## 4. Token Embedding\n",
    "\n",
    "Converts token indices to dense vector representations.\n",
    "\n",
    "**Input:** Token indices `[batch, seq_len]`  \n",
    "**Output:** Embeddings `[batch, seq_len, d_model]`"
   ]
  },
  {
   "cell_type": "code",
   "execution_count": 6,
   "metadata": {},
   "outputs": [],
   "source": [
    "class TokenEmbedding:\n",
    "    def __init__(self, vocab_size, d_model):\n",
    "        self.vocab_size = vocab_size\n",
    "        self.d_model = d_model\n",
    "        # Xavier initialization\n",
    "        self.weight = np.random.randn(vocab_size, d_model) * np.sqrt(2.0 / (vocab_size + d_model))\n",
    "    \n",
    "    def forward(self, x):\n",
    "        # Lookup embedding for each token\n",
    "        return self.weight[x]"
   ]
  },
  {
   "cell_type": "markdown",
   "metadata": {},
   "source": [
    "## 5. Positional Encoding\n",
    "\n",
    "### 5.1 Sinusoidal Positional Encoding\n",
    "\n",
    "Formula:\n",
    "$$PE_{(pos, 2i)} = \\sin\\left(\\frac{pos}{10000^{2i/d_{model}}}\\right)$$\n",
    "$$PE_{(pos, 2i+1)} = \\cos\\left(\\frac{pos}{10000^{2i/d_{model}}}\\right)$$\n",
    "\n",
    "Where:\n",
    "- `pos` = position in sequence\n",
    "- `i` = dimension index\n",
    "- `d_model` = embedding dimension"
   ]
  },
  {
   "cell_type": "code",
   "execution_count": 7,
   "metadata": {},
   "outputs": [],
   "source": [
    "class PositionalEncoding:\n",
    "    def __init__(self, d_model, max_len=5000):\n",
    "        self.d_model = d_model\n",
    "        \n",
    "        # Create positional encoding matrix\n",
    "        pe = np.zeros((max_len, d_model))\n",
    "        position = np.arange(0, max_len)[:, np.newaxis]\n",
    "        div_term = np.exp(np.arange(0, d_model, 2) * -(np.log(10000.0) / d_model))\n",
    "        \n",
    "        # Apply sin to even indices\n",
    "        pe[:, 0::2] = np.sin(position * div_term)\n",
    "        # Apply cos to odd indices\n",
    "        pe[:, 1::2] = np.cos(position * div_term)\n",
    "        \n",
    "        self.pe = pe\n",
    "    \n",
    "    def forward(self, x):\n",
    "        # Add positional encoding to embeddings\n",
    "        seq_len = x.shape[1]\n",
    "        return x + self.pe[:seq_len, :]"
   ]
  },
  {
   "cell_type": "markdown",
   "metadata": {},
   "source": [
    "### 5.2 RoPE - Rotary Position Embedding (BONUS)\n",
    "\n",
    "Alternative positional encoding that rotates embedding vectors.\n",
    "\n",
    "**Benefits:**\n",
    "- Better relative position modeling\n",
    "- Used in modern LLMs (LLaMA, GPT-NeoX)"
   ]
  },
  {
   "cell_type": "code",
   "execution_count": 8,
   "metadata": {},
   "outputs": [],
   "source": [
    "class RotaryPositionalEmbedding:\n",
    "    def __init__(self, d_model, max_len=5000):\n",
    "        assert d_model % 2 == 0, \"d_model must be even for RoPE\"\n",
    "        self.d_model = d_model\n",
    "        \n",
    "        # Compute rotation frequencies\n",
    "        inv_freq = 1.0 / (10000 ** (np.arange(0, d_model, 2) / d_model))\n",
    "        position = np.arange(max_len)\n",
    "        freqs = np.outer(position, inv_freq)\n",
    "        \n",
    "        # Cache cosine and sine values\n",
    "        self.cos_cached = np.cos(freqs)\n",
    "        self.sin_cached = np.sin(freqs)\n",
    "    \n",
    "    def rotate_half(self, x):\n",
    "        # Rotate by swapping pairs and negating\n",
    "        x1 = x[..., ::2]\n",
    "        x2 = x[..., 1::2]\n",
    "        result = np.zeros_like(x)\n",
    "        result[..., ::2] = -x2\n",
    "        result[..., 1::2] = x1\n",
    "        return result\n",
    "    \n",
    "    def forward(self, x):\n",
    "        # Apply rotary position embedding\n",
    "        seq_len = x.shape[1]\n",
    "        cos = np.repeat(self.cos_cached[:seq_len, :], 2, axis=-1)\n",
    "        sin = np.repeat(self.sin_cached[:seq_len, :], 2, axis=-1)\n",
    "        return x * cos + self.rotate_half(x) * sin"
   ]
  },
  {
   "cell_type": "markdown",
   "metadata": {},
   "source": [
    "## 6. Attention Mechanisms\n",
    "\n",
    "### 6.1 Scaled Dot-Product Attention\n",
    "\n",
    "Formula:\n",
    "$$\\text{Attention}(Q, K, V) = \\text{softmax}\\left(\\frac{QK^T}{\\sqrt{d_k}}\\right)V$$\n",
    "\n",
    "Where:\n",
    "- `Q` = Query matrix\n",
    "- `K` = Key matrix\n",
    "- `V` = Value matrix\n",
    "- `d_k` = dimension of key vectors"
   ]
  },
  {
   "cell_type": "code",
   "execution_count": 9,
   "metadata": {},
   "outputs": [],
   "source": [
    "def scaled_dot_product_attention(Q, K, V, mask=None):\n",
    "    d_k = Q.shape[-1]\n",
    "    \n",
    "    # Compute attention scores: Q @ K^T / sqrt(d_k)\n",
    "    scores = np.matmul(Q, K.transpose(0, 1, 3, 2)) / np.sqrt(d_k)  # Note the transpose axes\n",
    "    \n",
    "    # Apply mask if provided (for causal attention)\n",
    "    if mask is not None:\n",
    "        scores = scores + mask \n",
    "    \n",
    "    # Get attention weights via softmax\n",
    "    attention_weights = softmax(scores, axis=-1)\n",
    "    \n",
    "    # Apply attention to values\n",
    "    output = np.matmul(attention_weights, V)\n",
    "    \n",
    "    return output, attention_weights"
   ]
  },
  {
   "cell_type": "markdown",
   "metadata": {},
   "source": [
    "### 6.2 Multi-Head Attention\n",
    "\n",
    "Formula:\n",
    "$$\\text{MultiHead}(Q, K, V) = \\text{Concat}(\\text{head}_1, ..., \\text{head}_h)W^O$$\n",
    "\n",
    "$$\\text{head}_i = \\text{Attention}(QW_i^Q, KW_i^K, VW_i^V)$$\n",
    "\n",
    "Where:\n",
    "- `h` = number of heads\n",
    "- `W^Q, W^K, W^V` = projection matrices\n",
    "- `W^O` = output projection matrix"
   ]
  },
  {
   "cell_type": "code",
   "execution_count": 10,
   "metadata": {},
   "outputs": [],
   "source": [
    "class MultiHeadAttention:\n",
    "    def __init__(self, d_model, num_heads):\n",
    "        assert d_model % num_heads == 0\n",
    "\n",
    "        self.d_model = d_model\n",
    "        self.num_heads = num_heads\n",
    "        self.d_k = d_model // num_heads\n",
    "\n",
    "        # Initialize projection weights\n",
    "        self.W_q = np.random.randn(d_model, d_model) * np.sqrt(2.0 / d_model)\n",
    "        self.W_k = np.random.randn(d_model, d_model) * np.sqrt(2.0 / d_model)\n",
    "        self.W_v = np.random.randn(d_model, d_model) * np.sqrt(2.0 / d_model)\n",
    "        self.W_o = np.random.randn(d_model, d_model) * np.sqrt(2.0 / d_model)\n",
    "\n",
    "    def split_heads(self, x):\n",
    "        # Reshape to separate heads: [batch, seq_len, num_heads, d_k]\n",
    "        batch_size, seq_len, _ = x.shape\n",
    "        x = x.reshape(batch_size, seq_len, self.num_heads, self.d_k)\n",
    "        # Transpose to [batch, num_heads, seq_len, d_k]\n",
    "        return x.transpose(0, 2, 1, 3)\n",
    "\n",
    "    def forward(self, x, mask=None):\n",
    "        batch_size, seq_len, _ = x.shape\n",
    "        \n",
    "        # Linear projections\n",
    "        Q = np.matmul(x, self.W_q)\n",
    "        K = np.matmul(x, self.W_k)\n",
    "        V = np.matmul(x, self.W_v)\n",
    "\n",
    "        # Split into heads\n",
    "        Q_heads = self.split_heads(Q)\n",
    "        K_heads = self.split_heads(K)\n",
    "        V_heads = self.split_heads(V)\n",
    "        \n",
    "        # Apply attention. The `scaled_dot_product_attention` function must now handle the batch and heads dimension\n",
    "        attn_output, attn_weights = scaled_dot_product_attention(Q_heads, K_heads, V_heads, mask)\n",
    "        \n",
    "        # Reshape attention output back\n",
    "        attn_output = attn_output.transpose(0, 2, 1, 3).reshape(batch_size, seq_len, self.d_model)\n",
    "        \n",
    "        # Final projection\n",
    "        output = np.matmul(attn_output, self.W_o)\n",
    "        \n",
    "        return output, attn_weights"
   ]
  },
  {
   "cell_type": "markdown",
   "metadata": {},
   "source": [
    "## 7. Feed-Forward Network\n",
    "\n",
    "Formula:\n",
    "$$\\text{FFN}(x) = \\text{GELU}(xW_1 + b_1)W_2 + b_2$$\n",
    "\n",
    "Two-layer network with GELU activation."
   ]
  },
  {
   "cell_type": "code",
   "execution_count": 11,
   "metadata": {},
   "outputs": [],
   "source": [
    "class FeedForwardNetwork:\n",
    "    def __init__(self, d_model, d_ff):\n",
    "        # Initialize two linear layers\n",
    "        self.W1 = np.random.randn(d_model, d_ff) * np.sqrt(2.0 / d_model)\n",
    "        self.b1 = np.zeros(d_ff)\n",
    "        self.W2 = np.random.randn(d_ff, d_model) * np.sqrt(2.0 / d_ff)\n",
    "        self.b2 = np.zeros(d_model)\n",
    "    \n",
    "    def forward(self, x):\n",
    "        # First layer with GELU activation\n",
    "        hidden = gelu(np.matmul(x, self.W1) + self.b1)\n",
    "        # Second layer\n",
    "        output = np.matmul(hidden, self.W2) + self.b2\n",
    "        return output"
   ]
  },
  {
   "cell_type": "markdown",
   "metadata": {},
   "source": [
    "## 8. Causal Masking\n",
    "\n",
    "Prevents attention to future positions (autoregressive property).\n",
    "\n",
    "**Formula:**\n",
    "```\n",
    "mask[i, j] = 0     if j <= i  (can attend)\n",
    "mask[i, j] = -∞    if j > i   (cannot attend)\n",
    "```\n",
    "\n",
    "**Example (5x5):**\n",
    "```\n",
    "Position 0: [✓ ✗ ✗ ✗ ✗]  (can only see position 0)\n",
    "Position 1: [✓ ✓ ✗ ✗ ✗]  (can see positions 0-1)\n",
    "Position 2: [✓ ✓ ✓ ✗ ✗]  (can see positions 0-2)\n",
    "Position 3: [✓ ✓ ✓ ✓ ✗]  (can see positions 0-3)\n",
    "Position 4: [✓ ✓ ✓ ✓ ✓]  (can see all positions)\n",
    "```"
   ]
  },
  {
   "cell_type": "code",
   "execution_count": 12,
   "metadata": {},
   "outputs": [],
   "source": [
    "def create_causal_mask(seq_len):\n",
    "    # Upper triangular matrix with -inf (blocks future tokens)\n",
    "    mask = np.triu(np.ones((seq_len, seq_len)), k=1) * -1e9\n",
    "    return mask"
   ]
  },
  {
   "cell_type": "markdown",
   "metadata": {},
   "source": [
    "## 9. Decoder Block\n",
    "\n",
    "Combines all components with Pre-Layer Normalization:\n",
    "\n",
    "```\n",
    "x = x + MultiHeadAttention(LayerNorm(x))\n",
    "x = x + FFN(LayerNorm(x))\n",
    "```"
   ]
  },
  {
   "cell_type": "code",
   "execution_count": 13,
   "metadata": {},
   "outputs": [],
   "source": [
    "class DecoderBlock:\n",
    "    def __init__(self, d_model, num_heads, d_ff):\n",
    "        self.attention = MultiHeadAttention(d_model, num_heads)\n",
    "        self.ffn = FeedForwardNetwork(d_model, d_ff)\n",
    "        \n",
    "        # Layer normalization parameters\n",
    "        self.gamma1 = np.ones(d_model)\n",
    "        self.beta1 = np.zeros(d_model)\n",
    "        self.gamma2 = np.ones(d_model)\n",
    "        self.beta2 = np.zeros(d_model)\n",
    "    \n",
    "    def forward(self, x, mask=None):\n",
    "        # Pre-norm Multi-Head Attention + Residual\n",
    "        norm_x = layer_norm(x, self.gamma1, self.beta1)\n",
    "        attn_output, attn_weights = self.attention.forward(norm_x, mask)\n",
    "        x = x + attn_output\n",
    "        \n",
    "        # Pre-norm FFN + Residual\n",
    "        norm_x = layer_norm(x, self.gamma2, self.beta2)\n",
    "        ffn_output = self.ffn.forward(norm_x)\n",
    "        x = x + ffn_output\n",
    "        \n",
    "        return x, attn_weights"
   ]
  },
  {
   "cell_type": "markdown",
   "metadata": {},
   "source": [
    "## 10. Complete Transformer Model\n",
    "\n",
    "**Architecture:**\n",
    "```\n",
    "Input Tokens\n",
    "    ↓\n",
    "Token Embedding + Positional Encoding\n",
    "    ↓\n",
    "Decoder Blocks (× N layers)\n",
    "    ↓\n",
    "Layer Norm\n",
    "    ↓\n",
    "Output Projection → Logits [batch, seq_len, vocab_size]\n",
    "    ↓\n",
    "Softmax (last position) → Next Token Probabilities\n",
    "```"
   ]
  },
  {
   "cell_type": "code",
   "execution_count": 14,
   "metadata": {},
   "outputs": [],
   "source": [
    "class GPTTransformer:\n",
    "    def __init__(self, vocab_size, d_model, num_heads, num_layers, d_ff, \n",
    "                 max_len=512, use_rope=False, weight_tying=False):\n",
    "        self.vocab_size = vocab_size\n",
    "        self.d_model = d_model\n",
    "        self.use_rope = use_rope\n",
    "        self.weight_tying = weight_tying\n",
    "        \n",
    "        # Token embedding\n",
    "        self.token_embedding = TokenEmbedding(vocab_size, d_model)\n",
    "        \n",
    "        # Positional encoding (choose between standard or RoPE)\n",
    "        if use_rope:\n",
    "            self.positional_encoding = RotaryPositionalEmbedding(d_model, max_len)\n",
    "        else:\n",
    "            self.positional_encoding = PositionalEncoding(d_model, max_len)\n",
    "        \n",
    "        # Stack of decoder blocks\n",
    "        self.decoder_blocks = [\n",
    "            DecoderBlock(d_model, num_heads, d_ff) for _ in range(num_layers)\n",
    "        ]\n",
    "        \n",
    "        # Final layer norm\n",
    "        self.gamma_final = np.ones(d_model)\n",
    "        self.beta_final = np.zeros(d_model)\n",
    "        \n",
    "        # Output projection (with optional weight tying)\n",
    "        if weight_tying:\n",
    "            self.output_projection = self.token_embedding.weight.T\n",
    "        else:\n",
    "            self.output_projection = np.random.randn(d_model, vocab_size) * np.sqrt(2.0 / d_model)\n",
    "    \n",
    "    def forward(self, x):\n",
    "        # x: token indices [batch, seq_len]\n",
    "        # Returns: logits [batch, seq_len, vocab_size],\n",
    "        #          next_token_probs [batch, vocab_size],\n",
    "        #          attention_weights (list of attention matrices)\n",
    "        \n",
    "        batch_size, seq_len = x.shape\n",
    "        \n",
    "        # Embedding + positional encoding\n",
    "        embeddings = self.token_embedding.forward(x)\n",
    "        x = self.positional_encoding.forward(embeddings)\n",
    "        \n",
    "        # Create causal mask\n",
    "        mask = create_causal_mask(seq_len)\n",
    "        \n",
    "        # Pass through decoder blocks\n",
    "        all_attention_weights = []\n",
    "        for decoder_block in self.decoder_blocks:\n",
    "            x, attn_weights = decoder_block.forward(x, mask)\n",
    "            all_attention_weights.append(attn_weights)\n",
    "        \n",
    "        # Final layer norm\n",
    "        x = layer_norm(x, self.gamma_final, self.beta_final)\n",
    "        \n",
    "        # Project to vocabulary size\n",
    "        logits = np.matmul(x, self.output_projection)\n",
    "        \n",
    "        # Get next token probabilities (softmax of last position)\n",
    "        last_token_logits = logits[:, -1, :]\n",
    "        next_token_probs = softmax(last_token_logits, axis=-1)\n",
    "        \n",
    "        return logits, next_token_probs, all_attention_weights"
   ]
  },
  {
   "cell_type": "markdown",
   "metadata": {},
   "source": [
    "## 11. Attention Visualization (BONUS)"
   ]
  },
  {
   "cell_type": "code",
   "execution_count": 15,
   "metadata": {},
   "outputs": [],
   "source": [
    "def visualize_attention(attention_weights, layer_idx=0, head_idx=0):\n",
    "    # Visualize single attention head as heatmap\n",
    "    attn = attention_weights[layer_idx][0, head_idx, :, :]\n",
    "    \n",
    "    plt.figure(figsize=(8, 6))\n",
    "    sns.heatmap(attn, cmap='viridis', annot=True, fmt='.2f', cbar=True)\n",
    "    plt.title(f'Attention Weights - Layer {layer_idx}, Head {head_idx}')\n",
    "    plt.xlabel('Key Position')\n",
    "    plt.ylabel('Query Position')\n",
    "    plt.tight_layout()\n",
    "    plt.show()\n",
    "\n",
    "\n",
    "def plot_attention_statistics(attention_weights):\n",
    "    # Plot average attention across all heads for each layer\n",
    "    num_layers = len(attention_weights)\n",
    "    \n",
    "    fig, axes = plt.subplots(1, num_layers, figsize=(5 * num_layers, 4))\n",
    "    if num_layers == 1:\n",
    "        axes = [axes]\n",
    "    \n",
    "    for layer_idx, attn in enumerate(attention_weights):\n",
    "        avg_attn = np.mean(attn, axis=(0, 1))\n",
    "        \n",
    "        sns.heatmap(avg_attn, cmap='Blues', cbar=True, ax=axes[layer_idx])\n",
    "        axes[layer_idx].set_title(f'Layer {layer_idx}\\nAvg Attention')\n",
    "        axes[layer_idx].set_xlabel('Key')\n",
    "        axes[layer_idx].set_ylabel('Query')\n",
    "    \n",
    "    plt.tight_layout()\n",
    "    plt.show()"
   ]
  },
  {
   "cell_type": "markdown",
   "metadata": {},
   "source": [
    "## 12. Simple Test Function"
   ]
  },
  {
   "cell_type": "code",
   "execution_count": 16,
   "metadata": {},
   "outputs": [],
   "source": [
    "def test_transformer():\n",
    "    # Configuration\n",
    "    vocab_size = 1000\n",
    "    d_model = 512\n",
    "    num_heads = 8\n",
    "    num_layers = 6\n",
    "    d_ff = 2048\n",
    "    seq_len = 10\n",
    "    batch_size = 2\n",
    "    \n",
    "    print(\"=\"*70)\n",
    "    print(\"TRANSFORMER GPT-STYLE TESTING\")\n",
    "    print(\"=\"*70)\n",
    "    print(f\"\\nConfiguration:\")\n",
    "    print(f\"  Vocabulary Size: {vocab_size}\")\n",
    "    print(f\"  Model Dimension: {d_model}\")\n",
    "    print(f\"  Number of Heads: {num_heads}\")\n",
    "    print(f\"  Number of Layers: {num_layers}\")\n",
    "    print(f\"  FFN Dimension: {d_ff}\")\n",
    "    print(f\"  Sequence Length: {seq_len}\")\n",
    "    print(f\"  Batch Size: {batch_size}\")\n",
    "    \n",
    "    # Create models\n",
    "    print(\"\\n\" + \"=\"*70)\n",
    "    print(\"=== Testing Standard Transformer ===\")\n",
    "    model_standard = GPTTransformer(vocab_size, d_model, num_heads, num_layers, d_ff,\n",
    "                                   use_rope=False, weight_tying=False)\n",
    "    \n",
    "    print(\"\\n=== Testing RoPE Transformer ===\")\n",
    "    model_rope = GPTTransformer(vocab_size, d_model, num_heads, num_layers, d_ff,\n",
    "                               use_rope=True, weight_tying=False)\n",
    "    \n",
    "    print(\"\\n=== Testing Weight-Tied Transformer ===\")\n",
    "    model_tied = GPTTransformer(vocab_size, d_model, num_heads, num_layers, d_ff,\n",
    "                               use_rope=False, weight_tying=True)\n",
    "    \n",
    "    # Input tokens (simple tokenization as list of numbers)\n",
    "    tokens = np.random.randint(0, vocab_size, (batch_size, seq_len))\n",
    "    print(f\"\\nInput tokens:\\n{tokens}\")\n",
    "    \n",
    "    # Test each model\n",
    "    for model_name, model in [(\"Standard\", model_standard), \n",
    "                               (\"RoPE\", model_rope), \n",
    "                               (\"Weight-Tied\", model_tied)]:\n",
    "        print(\"\\n\" + \"=\"*70)\n",
    "        print(f\"--- {model_name} Model ---\")\n",
    "        \n",
    "        logits, next_token_probs, attention_weights = model.forward(tokens)\n",
    "        \n",
    "        print(f\"Input tokens shape: {tokens.shape}\")\n",
    "        print(f\"Logits shape: {logits.shape}\")\n",
    "        print(f\"Next token probabilities shape: {next_token_probs.shape}\")\n",
    "        print(f\"Number of attention weight matrices: {len(attention_weights)}\")\n",
    "        print(f\"Attention weights shape per layer: {attention_weights[0].shape}\")\n",
    "        print(f\"Sum of next token probabilities: {np.sum(next_token_probs, axis=-1)}\")\n",
    "        print(f\"  (should be ~1.0 for each sample)\")\n",
    "        \n",
    "        # Top-5 predicted tokens\n",
    "        for b in range(batch_size):\n",
    "            top_5 = np.argsort(next_token_probs[b])[-5:][::-1]\n",
    "            print(f\"\\n  Sample {b} - Top 5 predicted tokens:\")\n",
    "            for i, token_id in enumerate(top_5, 1):\n",
    "                print(f\"    {i}. Token {token_id}: {next_token_probs[b, token_id]:.4f}\")\n",
    "        \n",
    "        if model_name == \"Weight-Tied\":\n",
    "            print(f\"\\nWeight tying check:\")\n",
    "            print(f\"  Embedding weight shape: {model.token_embedding.weight.shape}\")\n",
    "            print(f\"  Output projection shape: {model.output_projection.shape}\")\n",
    "            print(f\"  Weight tying enabled: {model.weight_tying}\")\n",
    "    \n",
    "    # Visualization demo\n",
    "    print(\"\\n\" + \"=\"*70)\n",
    "    print(\"=== Attention Visualization Demo ===\")\n",
    "    print(\"\\nGenerating attention heatmap...\")\n",
    "    visualize_attention(attention_weights, layer_idx=0, head_idx=0)\n",
    "    \n",
    "    print(\"\\nGenerating attention statistics...\")\n",
    "    plot_attention_statistics(attention_weights)\n",
    "    \n",
    "    print(\"\\n\" + \"=\"*70)\n",
    "    print(\"ALL TESTS COMPLETED SUCCESSFULLY!\")\n",
    "    print(\"=\"*70)\n",
    "    \n",
    "    return True"
   ]
  },
  {
   "cell_type": "markdown",
   "metadata": {},
   "source": [
    "## 13. Run Tests"
   ]
  },
  {
   "cell_type": "code",
   "execution_count": 17,
   "metadata": {},
   "outputs": [
    {
     "name": "stdout",
     "output_type": "stream",
     "text": [
      "======================================================================\n",
      "TRANSFORMER GPT-STYLE TESTING\n",
      "======================================================================\n",
      "\n",
      "Configuration:\n",
      "  Vocabulary Size: 1000\n",
      "  Model Dimension: 512\n",
      "  Number of Heads: 8\n",
      "  Number of Layers: 6\n",
      "  FFN Dimension: 2048\n",
      "  Sequence Length: 10\n",
      "  Batch Size: 2\n",
      "\n",
      "======================================================================\n",
      "=== Testing Standard Transformer ===\n",
      "\n",
      "=== Testing RoPE Transformer ===\n",
      "\n",
      "=== Testing Weight-Tied Transformer ===\n",
      "\n",
      "Input tokens:\n",
      "[[150 441 297 643 259 728 383  86 971 216]\n",
      " [646 163 262 179 269 366 123 998 117 323]]\n",
      "\n",
      "======================================================================\n",
      "--- Standard Model ---\n",
      "Input tokens shape: (2, 10)\n",
      "Logits shape: (2, 10, 1000)\n",
      "Next token probabilities shape: (2, 1000)\n",
      "Number of attention weight matrices: 6\n",
      "Attention weights shape per layer: (2, 8, 10, 10)\n",
      "Sum of next token probabilities: [1. 1.]\n",
      "  (should be ~1.0 for each sample)\n",
      "\n",
      "  Sample 0 - Top 5 predicted tokens:\n",
      "    1. Token 299: 0.0363\n",
      "    2. Token 349: 0.0244\n",
      "    3. Token 104: 0.0239\n",
      "    4. Token 141: 0.0193\n",
      "    5. Token 255: 0.0177\n",
      "\n",
      "  Sample 1 - Top 5 predicted tokens:\n",
      "    1. Token 299: 0.0323\n",
      "    2. Token 104: 0.0252\n",
      "    3. Token 349: 0.0206\n",
      "    4. Token 141: 0.0174\n",
      "    5. Token 634: 0.0163\n",
      "\n",
      "======================================================================\n",
      "--- RoPE Model ---\n",
      "Input tokens shape: (2, 10)\n",
      "Logits shape: (2, 10, 1000)\n",
      "Next token probabilities shape: (2, 1000)\n",
      "Number of attention weight matrices: 6\n",
      "Attention weights shape per layer: (2, 8, 10, 10)\n",
      "Sum of next token probabilities: [1. 1.]\n",
      "  (should be ~1.0 for each sample)\n",
      "\n",
      "  Sample 0 - Top 5 predicted tokens:\n",
      "    1. Token 558: 0.0669\n",
      "    2. Token 165: 0.0326\n",
      "    3. Token 199: 0.0286\n",
      "    4. Token 510: 0.0264\n",
      "    5. Token 944: 0.0263\n",
      "\n",
      "  Sample 1 - Top 5 predicted tokens:\n",
      "    1. Token 628: 0.0851\n",
      "    2. Token 395: 0.0562\n",
      "    3. Token 483: 0.0181\n",
      "    4. Token 379: 0.0137\n",
      "    5. Token 277: 0.0133\n",
      "\n",
      "======================================================================\n",
      "--- Weight-Tied Model ---\n",
      "Input tokens shape: (2, 10)\n",
      "Logits shape: (2, 10, 1000)\n",
      "Next token probabilities shape: (2, 1000)\n",
      "Number of attention weight matrices: 6\n",
      "Attention weights shape per layer: (2, 8, 10, 10)\n",
      "Sum of next token probabilities: [1. 1.]\n",
      "  (should be ~1.0 for each sample)\n",
      "\n",
      "  Sample 0 - Top 5 predicted tokens:\n",
      "    1. Token 966: 0.0066\n",
      "    2. Token 875: 0.0063\n",
      "    3. Token 683: 0.0062\n",
      "    4. Token 227: 0.0060\n",
      "    5. Token 14: 0.0059\n",
      "\n",
      "  Sample 1 - Top 5 predicted tokens:\n",
      "    1. Token 875: 0.0068\n",
      "    2. Token 683: 0.0065\n",
      "    3. Token 966: 0.0060\n",
      "    4. Token 410: 0.0059\n",
      "    5. Token 227: 0.0059\n",
      "\n",
      "Weight tying check:\n",
      "  Embedding weight shape: (1000, 512)\n",
      "  Output projection shape: (512, 1000)\n",
      "  Weight tying enabled: True\n",
      "\n",
      "======================================================================\n",
      "=== Attention Visualization Demo ===\n",
      "\n",
      "Generating attention heatmap...\n"
     ]
    },
    {
     "data": {
      "image/png": "[encoded data removed]",
      "text/plain": [
       "<Figure size 800x600 with 2 Axes>"
      ]
     },
     "metadata": {},
     "output_type": "display_data"
    },
    {
     "name": "stdout",
     "output_type": "stream",
     "text": [
      "\n",
      "Generating attention statistics...\n"
     ]
    },
    {
     "data": {
      "image/png": "[encoded data removed]",
      "text/plain": [
       "<Figure size 3000x400 with 12 Axes>"
      ]
     },
     "metadata": {},
     "output_type": "display_data"
    },
    {
     "name": "stdout",
     "output_type": "stream",
     "text": [
      "\n",
      "======================================================================\n",
      "ALL TESTS COMPLETED SUCCESSFULLY!\n",
      "======================================================================\n"
     ]
    },
    {
     "data": {
      "text/plain": [
       "True"
      ]
     },
     "execution_count": 17,
     "metadata": {},
     "output_type": "execute_result"
    }
   ],
   "source": [
    "# Run the test\n",
    "test_transformer()"
   ]
  },
  {
   "cell_type": "markdown",
   "metadata": {},
   "source": [
    "## Summary\n",
    "\n",
    "### Core Components Implemented:\n",
    "1. **Token Embedding** - Converts tokens to vectors\n",
    "2. **Positional Encoding** - Adds position information (Sinusoidal)\n",
    "3. **Scaled Dot-Product Attention** - Core attention mechanism\n",
    "4. **Multi-Head Attention** - Parallel attention heads\n",
    "5. **Feed-Forward Network** - Two-layer MLP with GELU\n",
    "6. **Layer Normalization + Residual Connections** - Pre-LN architecture\n",
    "7. **Causal Masking** - Prevents future token access\n",
    "8. **Output Layer** - Projects to vocabulary and computes probabilities\n",
    "\n",
    "### Bonus Features:\n",
    "- **RoPE** - Rotary Position Embedding (modern alternative)\n",
    "- **Weight Tying** - Shared embedding/output weights\n",
    "- **Attention Visualization** - Heatmaps and statistics\n",
    "\n",
    "### Model Input/Output:\n",
    "- **Input:** Token indices `[batch, seq_len]` (simple list of numbers)\n",
    "- **Output:** \n",
    "  - Logits `[batch, seq_len, vocab_size]`\n",
    "  - Next token probabilities `[batch, vocab_size]`\n",
    "  - Attention weights (for visualization)"
   ]
  },
  {
   "cell_type": "code",
   "execution_count": null,
   "metadata": {},
   "outputs": [],
   "source": []
  }
 ],
 "metadata": {
  "kernelspec": {
   "display_name": "Python 3 (ipykernel)",
   "language": "python",
   "name": "python3"
  },
  "language_info": {
   "codemirror_mode": {
    "name": "ipython",
    "version": 3
   },
   "file_extension": ".py",
   "mimetype": "text/x-python",
   "name": "python",
   "nbconvert_exporter": "python",
   "pygments_lexer": "ipython3",
   "version": "3.12.6"
  }
 },
 "nbformat": 4,
 "nbformat_minor": 4
}
